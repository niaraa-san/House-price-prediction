{
  "nbformat": 4,
  "nbformat_minor": 0,
  "metadata": {
    "colab": {
      "provenance": [],
      "authorship_tag": "ABX9TyPW6Kg933weZd241dHadVjA"
    },
    "kernelspec": {
      "name": "python3",
      "display_name": "Python 3"
    },
    "language_info": {
      "name": "python"
    }
  },
  "cells": [
    {
      "cell_type": "markdown",
      "source": [
        "# SetUp Data Kaggle"
      ],
      "metadata": {
        "id": "B4y0V69RU4qR"
      }
    },
    {
      "cell_type": "code",
      "source": [
        "from google.colab import drive\n",
        "import os\n",
        "import zipfile\n",
        "\n",
        "# 1. Mount Google Drive\n",
        "drive.mount('/content/drive')\n",
        "print(\"✅ Google Drive mounted\\n\")\n",
        "\n",
        "# 2. Setup Path sesuai struktur folder Anda\n",
        "base_path = \"/content/drive/MyDrive/Colab Notebooks/ML Project/HousePricePrediction\"\n",
        "data_dir = os.path.join(base_path, \"Data\")  # Perhatikan huruf besar 'D' di Data\n",
        "notebooks_dir = os.path.join(base_path, \"Notebooks\")\n",
        "\n",
        "# 3. Cek apakah kaggle.zip sudah ada\n",
        "kaggle_zip_path = os.path.join(data_dir, \"kaggle.zip\")\n",
        "\n",
        "if not os.path.exists(kaggle_zip_path):\n",
        "    print(f\"❌ File kaggle.zip tidak ditemukan di: {data_dir}\")\n",
        "    print(\"\\n⬆️ Silakan upload kaggle.zip:\")\n",
        "    from google.colab import files\n",
        "    uploaded = files.upload()\n",
        "\n",
        "    if 'kaggle.zip' in uploaded:\n",
        "        with open(kaggle_zip_path, 'wb') as f:\n",
        "            f.write(uploaded['kaggle.zip'])\n",
        "        print(f\"✅ kaggle.zip disimpan di: {kaggle_zip_path}\")\n",
        "    else:\n",
        "        raise FileNotFoundError(\"File kaggle.zip diperlukan\")\n",
        "else:\n",
        "    print(f\"✅ File kaggle.zip ditemukan di: {kaggle_zip_path}\")\n",
        "\n",
        "# 4. Ekstrak dataset\n",
        "print(\"\\n🗜️ Mengekstrak kaggle.zip...\")\n",
        "try:\n",
        "    with zipfile.ZipFile(kaggle_zip_path, 'r') as zip_ref:\n",
        "        zip_ref.extractall(data_dir)\n",
        "    print(\"✅ Ekstraksi berhasil!\")\n",
        "\n",
        "    # List file yang diekstrak\n",
        "    print(\"\\n📂 Isi folder Data setelah ekstraksi:\")\n",
        "    !ls -la \"{data_dir}\"\n",
        "\n",
        "except zipfile.BadZipFile:\n",
        "    print(\"❌ Error: File zip corrupt atau tidak valid\")\n",
        "except Exception as e:\n",
        "    print(f\"❌ Error saat ekstraksi: {str(e)}\")\n",
        "\n",
        "# 5. Verifikasi file penting\n",
        "required_files = ['train.csv', 'test.csv', 'data_description.txt']\n",
        "missing_files = [f for f in required_files if not os.path.exists(os.path.join(data_dir, f))]\n",
        "\n",
        "if missing_files:\n",
        "    print(\"\\n⚠️ File penting berikut tidak ditemukan:\")\n",
        "    for f in missing_files:\n",
        "        print(f\"- {f}\")\n",
        "else:\n",
        "    print(\"\\n🎉 Semua file penting tersedia!\")\n",
        "\n",
        "print(\"\\n💾 Path lengkap untuk file dataset:\")\n",
        "print(f\"- Training set: {os.path.join(data_dir, 'train.csv')}\")\n",
        "print(f\"- Test set: {os.path.join(data_dir, 'test.csv')}\")"
      ],
      "metadata": {
        "colab": {
          "base_uri": "https://localhost:8080/"
        },
        "id": "9BKoikE1U5gq",
        "outputId": "e2739e5c-a426-4e54-89f5-4aa81d2f0152"
      },
      "execution_count": null,
      "outputs": [
        {
          "output_type": "stream",
          "name": "stdout",
          "text": [
            "Mounted at /content/drive\n",
            "✅ Google Drive mounted\n",
            "\n",
            "✅ File kaggle.zip ditemukan di: /content/drive/MyDrive/Colab Notebooks/ML Project/HousePricePrediction/Data/kaggle.zip\n",
            "\n",
            "🗜️ Mengekstrak kaggle.zip...\n",
            "✅ Ekstraksi berhasil!\n",
            "\n",
            "📂 Isi folder Data setelah ekstraksi:\n",
            "total 1136\n",
            "-rw------- 1 root root  13370 Jun  6 15:06 data_description.txt\n",
            "-rw------- 1 root root 203809 Jun  6 13:17 kaggle.zip\n",
            "-rw------- 1 root root  31939 Jun  6 15:06 sample_submission.csv\n",
            "-rw------- 1 root root 451405 Jun  6 15:06 test.csv\n",
            "-rw------- 1 root root 460676 Jun  6 15:06 train.csv\n",
            "\n",
            "🎉 Semua file penting tersedia!\n",
            "\n",
            "💾 Path lengkap untuk file dataset:\n",
            "- Training set: /content/drive/MyDrive/Colab Notebooks/ML Project/HousePricePrediction/Data/train.csv\n",
            "- Test set: /content/drive/MyDrive/Colab Notebooks/ML Project/HousePricePrediction/Data/test.csv\n"
          ]
        }
      ]
    },
    {
      "cell_type": "markdown",
      "source": [
        "# Library\n"
      ],
      "metadata": {
        "id": "rFzndN80y08n"
      }
    },
    {
      "cell_type": "code",
      "source": [
        "#Basic Libraries\n",
        "import pandas as pd\n",
        "import numpy as np\n",
        "import seaborn as sns\n",
        "import matplotlib.pyplot as plt\n",
        "\n",
        "# Prepocessing\n",
        "from sklearn"
      ],
      "metadata": {
        "id": "eMBzhiDMy-vY",
        "colab": {
          "base_uri": "https://localhost:8080/",
          "height": 110
        },
        "outputId": "82081e03-40b0-4871-b760-f9f58725240c"
      },
      "execution_count": null,
      "outputs": [
        {
          "output_type": "error",
          "ename": "SyntaxError",
          "evalue": "invalid syntax (ipython-input-4004143944.py, line 3)",
          "traceback": [
            "\u001b[0;36m  File \u001b[0;32m\"/tmp/ipython-input-4004143944.py\"\u001b[0;36m, line \u001b[0;32m3\u001b[0m\n\u001b[0;31m    import\u001b[0m\n\u001b[0m           ^\u001b[0m\n\u001b[0;31mSyntaxError\u001b[0m\u001b[0;31m:\u001b[0m invalid syntax\n"
          ]
        }
      ]
    },
    {
      "cell_type": "code",
      "source": [],
      "metadata": {
        "id": "83MOSHEK-lvh"
      },
      "execution_count": null,
      "outputs": []
    }
  ]
}